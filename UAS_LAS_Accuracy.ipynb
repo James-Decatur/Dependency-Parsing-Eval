{
 "cells": [
  {
   "cell_type": "code",
   "execution_count": 9,
   "metadata": {},
   "outputs": [],
   "source": [
    "import os"
   ]
  },
  {
   "cell_type": "code",
   "execution_count": 10,
   "metadata": {},
   "outputs": [],
   "source": [
    "lst_of_files = os.listdir()\n",
    "\n",
    "dev_files, test_files = [], []\n",
    "\n",
    "for file in lst_of_files:\n",
    "    if file.endswith('dev.conllu'):\n",
    "        dev_files.append(file)\n",
    "    elif file.endswith('test.conllu'):\n",
    "        test_files.append(file)"
   ]
  },
  {
   "cell_type": "code",
   "execution_count": 11,
   "metadata": {},
   "outputs": [
    {
     "name": "stdout",
     "output_type": "stream",
     "text": [
      " 85.87 80.66\n"
     ]
    }
   ],
   "source": [
    "for i in range(len(dev_files)):\n",
    "    \n",
    "    ref = open(dev_files[i], encoding='utf-8');\n",
    "    tst = open(test_files[i], encoding='utf-8');\n",
    "\n",
    "    total = 0.0;\n",
    "    uas_correct = 0.0;\n",
    "    las_correct = 0.0;\n",
    "    uas_errors = 0.0;\n",
    "    las_errors = 0.0;\n",
    "\n",
    "    while True: #{\n",
    "\n",
    "        ref_l = ref.readline();\n",
    "        tst_l = tst.readline();\n",
    "\n",
    "        if ref_l == '' and tst_l == '': #{\n",
    "            break;\n",
    "        #}\n",
    "\n",
    "        if ref_l == '\\n' and tst_l == '\\n': #{\n",
    "            continue;\n",
    "        #}\n",
    "\n",
    "        if ref_l.startswith('#') and tst_l.startswith('#'): #{\n",
    "            continue;\n",
    "        #}\n",
    "\n",
    "        ref_r = ref_l.split('\\t');\n",
    "        tst_r = tst_l.split('\\t');\n",
    "\n",
    "        if ref_r[0].count('-') > 0 and tst_r[0].count('-') > 0: #{\n",
    "            ref_l = ref.readline();\n",
    "            ref_r = ref_l.split('\\t');\n",
    "            tst_l = tst.readline();\n",
    "            tst_r = tst_l.split('\\t');\n",
    "        elif ref_r[0].count('-') > 0 and tst_r[0].count('-') == 0: #{\n",
    "            ref_l = ref.readline();\n",
    "            ref_r = ref_l.split('\\t');\n",
    "        #}\n",
    "\n",
    "        if ref_r[1] != tst_r[1]: #{\n",
    "            print('ERROR: Unaligned', file=sys.stderr);\n",
    "            print('REF:', ref_r, file=sys.stderr);\n",
    "            print('TST:', tst_r, file=sys.stderr);\n",
    "            break;\n",
    "        #}\n",
    "        if ref_r[1] == tst_r[1] and ref_r[6] == tst_r[6]: #{\n",
    "            uas_correct = uas_correct + 1.0;\n",
    "        elif ref_r[1] == tst_r[1] and ref_r[6] != tst_r[6]: #{\n",
    "            uas_errors = uas_errors + 1.0;\t\n",
    "\n",
    "        #}\n",
    "        if ref_r[1] == tst_r[1] and ref_r[6] == tst_r[6] and ref_r[7] == tst_r[7]: #{\n",
    "            las_correct = las_correct + 1.0;\n",
    "        elif ref_r[1] == tst_r[1] and (ref_r[6] != tst_r[6] or ref_r[7] != tst_r[7]): #{\n",
    "            las_errors = las_errors + 1.0;\n",
    "\n",
    "        #}\n",
    "\n",
    "        total = total + 1.0\n",
    "    #}\n",
    "    print(f'','%.2f' % (uas_correct/total*100.0), '%.2f' % (las_correct/total*100.0))"
   ]
  },
  {
   "cell_type": "code",
   "execution_count": 12,
   "metadata": {},
   "outputs": [
    {
     "name": "stdout",
     "output_type": "stream",
     "text": [
      "88.15\n"
     ]
    }
   ],
   "source": [
    "for i in range(len(dev_files)):\n",
    "    \n",
    "    ref = open(dev_files[i], encoding='utf-8');\n",
    "    tst = open(test_files[i], encoding='utf-8');\n",
    "    col = 7;\n",
    "\n",
    "    total = 0.0;\n",
    "    correct = 0.0;\n",
    "    errors = 0.0;\n",
    "\n",
    "    while True: #{\n",
    "\n",
    "        ref_l = ref.readline();\n",
    "        tst_l = tst.readline();\n",
    "\n",
    "        if ref_l == '' and tst_l == '': #{\n",
    "            break;\n",
    "        #}\n",
    "\n",
    "        if ref_l == '\\n' and tst_l == '\\n': #{\n",
    "            continue;\n",
    "        #}\n",
    "\n",
    "        if ref_l[0] == '#' and tst_l[0] == '#':#{\n",
    "            continue;\n",
    "        #}\n",
    "\n",
    "        ref_r = ref_l.split('\\t');\n",
    "        tst_r = tst_l.split('\\t');\n",
    "\n",
    "        if ref_r[1] != tst_r[1]: #{\n",
    "            print('ERROR: Unaligned', file=sys.stderr);\n",
    "            print(ref_r, file=sys.stderr);\n",
    "            print(tst_r, file=sys.stderr);\n",
    "            break;\n",
    "        #}\n",
    "        if ref_r[1] == tst_r[1] and ref_r[col] == tst_r[col]: #{\n",
    "            correct = correct + 1.0;\n",
    "        elif ref_r[1] == tst_r[1] and ref_r[col] != tst_r[col]: #{\n",
    "            errors = errors + 1.0;\n",
    "\n",
    "        #}\n",
    "        total = total + 1.0\n",
    "    #}\n",
    "    print('%.2f' % (correct/total*100.0));"
   ]
  }
 ],
 "metadata": {
  "hide_input": false,
  "kernelspec": {
   "display_name": "Python 3",
   "language": "python",
   "name": "python3"
  },
  "language_info": {
   "codemirror_mode": {
    "name": "ipython",
    "version": 3
   },
   "file_extension": ".py",
   "mimetype": "text/x-python",
   "name": "python",
   "nbconvert_exporter": "python",
   "pygments_lexer": "ipython3",
   "version": "3.8.5"
  }
 },
 "nbformat": 4,
 "nbformat_minor": 4
}
