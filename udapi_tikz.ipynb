{
 "cells": [
  {
   "cell_type": "code",
   "execution_count": 1,
   "metadata": {},
   "outputs": [
    {
     "name": "stdout",
     "output_type": "stream",
     "text": [
      "\\begin{dependency}\n",
      "\\begin{deptext}\n",
      "% sent_id = reviews-349020-0012\n",
      "% text = STAY AWAY AS FAR AS POSSIBLE.\n",
      "%$SENT_ID\n",
      "%$TEXT\n",
      "STAY \\& AWAY \\& AS  \\& FAR \\& AS    \\& POSSIBLE \\& .     \\\\\n",
      "VERB \\& ADV  \\& ADV \\& ADV \\& SCONJ \\& ADJ      \\& PUNCT \\\\\n",
      "\\end{deptext}\n",
      "\\deproot{1}{root}\n",
      "\\depedge{1}{2}{advmod}\n",
      "\\depedge{4}{3}{advmod}\n",
      "\\depedge{1}{4}{advmod}\n",
      "\\depedge{6}{5}{case}\n",
      "\\depedge{3}{6}{obl}\n",
      "\\depedge{1}{7}{punct}\n",
      "\\end{dependency}\n",
      "\n"
     ]
    }
   ],
   "source": [
    "import udapi.block.write.tikz\n",
    "from udapi.core.basewriter import BaseWriter\n",
    "udapi_tikz = udapi.block.write.tikz.Tikz()\n",
    "\n",
    "doc = udapi.Document(\"en_ewt-ud-train.conllu\")\n",
    "\n",
    "for node in doc.nodes:\n",
    "    if node.root.sent_id == \"reviews-349020-0012\":\n",
    "        if node.deprel == \"root\":\n",
    "            udapi_tikz.process_tree(node.root)"
   ]
  }
 ],
 "metadata": {
  "hide_input": false,
  "kernelspec": {
   "display_name": "Python 3",
   "language": "python",
   "name": "python3"
  },
  "language_info": {
   "codemirror_mode": {
    "name": "ipython",
    "version": 3
   },
   "file_extension": ".py",
   "mimetype": "text/x-python",
   "name": "python",
   "nbconvert_exporter": "python",
   "pygments_lexer": "ipython3",
   "version": "3.8.5"
  }
 },
 "nbformat": 4,
 "nbformat_minor": 4
}
