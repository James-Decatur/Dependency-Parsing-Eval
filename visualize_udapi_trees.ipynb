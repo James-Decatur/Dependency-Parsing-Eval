{
 "cells": [
  {
   "cell_type": "code",
   "execution_count": 1,
   "metadata": {},
   "outputs": [],
   "source": [
    "import udapi"
   ]
  },
  {
   "cell_type": "code",
   "execution_count": 2,
   "metadata": {},
   "outputs": [],
   "source": [
    "doc = udapi.Document(\"en_ewt-ud-train.conllu\")"
   ]
  },
  {
   "cell_type": "code",
   "execution_count": 3,
   "metadata": {
    "scrolled": true
   },
   "outputs": [
    {
     "name": "stdout",
     "output_type": "stream",
     "text": [
      "# sent_id = email-enronsent02_01-0045\n",
      "# text = Middle Office have instigated a new daily working capital report process tracking cash settlement/ funding data to working capital components for all Metals businesses.\n",
      "─┮\n",
      " │   ╭─╼ \u001b[33mMiddle\u001b[0m \u001b[31mADJ\u001b[0m \u001b[34mamod\u001b[0m\n",
      " │ ╭─┶ \u001b[33mOffice\u001b[0m \u001b[31mPROPN\u001b[0m \u001b[34mnsubj\u001b[0m\n",
      " │ ┢─╼ \u001b[33mhave\u001b[0m \u001b[31mAUX\u001b[0m \u001b[34maux\u001b[0m\n",
      " ╰─┾ \u001b[33minstigated\u001b[0m \u001b[31mVERB\u001b[0m \u001b[34mroot\u001b[0m\n",
      "   │ ╭─╼ \u001b[33ma\u001b[0m \u001b[31mDET\u001b[0m \u001b[34mdet\u001b[0m\n",
      "   │ ┢─╼ \u001b[33mnew\u001b[0m \u001b[31mADJ\u001b[0m \u001b[34mamod\u001b[0m\n",
      "   │ ┢─╼ \u001b[33mdaily\u001b[0m \u001b[31mADJ\u001b[0m \u001b[34mamod\u001b[0m\n",
      "   │ │                         ╭─╼ \u001b[33mworking\u001b[0m \u001b[31mNOUN\u001b[0m \u001b[34mcompound\u001b[0m\n",
      "   │ ┢─╼ \u001b[33mcapital\u001b[0m \u001b[31mNOUN\u001b[0m \u001b[34mcompound\u001b[0m │\n",
      "   │ ┢─────────────────────────┶ \u001b[33mreport\u001b[0m \u001b[31mNOUN\u001b[0m \u001b[34mcompound\u001b[0m\n",
      "   ┡─┾ \u001b[33mprocess\u001b[0m \u001b[31mNOUN\u001b[0m \u001b[34mobj\u001b[0m\n",
      "   │ ╰─┮ \u001b[33mtracking\u001b[0m \u001b[31mVERB\u001b[0m \u001b[34macl\u001b[0m\n",
      "   │   │ ╭─╼ \u001b[33mcash\u001b[0m \u001b[31mNOUN\u001b[0m \u001b[34mcompound\u001b[0m\n",
      "   │   ┡─┾ \u001b[33msettlement\u001b[0m \u001b[31mNOUN\u001b[0m \u001b[34mobj\u001b[0m\n",
      "   │   │ │ ╭─╼ \u001b[33m/\u001b[0m \u001b[31mSYM\u001b[0m \u001b[34mcc\u001b[0m\n",
      "   │   │ │ ┢─╼ \u001b[33mfunding\u001b[0m \u001b[31mNOUN\u001b[0m \u001b[34mcompound\u001b[0m\n",
      "   │   │ ╰─┶ \u001b[33mdata\u001b[0m \u001b[31mNOUN\u001b[0m \u001b[34mconj\u001b[0m\n",
      "   │   │ ╭─╼ \u001b[33mto\u001b[0m \u001b[31mADP\u001b[0m \u001b[34mcase\u001b[0m\n",
      "   │   │ │ ╭─╼ \u001b[33mworking\u001b[0m \u001b[31mNOUN\u001b[0m \u001b[34mcompound\u001b[0m\n",
      "   │   │ ┢─┶ \u001b[33mcapital\u001b[0m \u001b[31mNOUN\u001b[0m \u001b[34mcompound\u001b[0m\n",
      "   │   ┡─┶ \u001b[33mcomponents\u001b[0m \u001b[31mNOUN\u001b[0m \u001b[34mobl\u001b[0m\n",
      "   │   │ ╭─╼ \u001b[33mfor\u001b[0m \u001b[31mADP\u001b[0m \u001b[34mcase\u001b[0m\n",
      "   │   │ ┢─╼ \u001b[33mall\u001b[0m \u001b[31mDET\u001b[0m \u001b[34mdet\u001b[0m\n",
      "   │   │ ┢─╼ \u001b[33mMetals\u001b[0m \u001b[31mPROPN\u001b[0m \u001b[34mcompound\u001b[0m\n",
      "   │   ╰─┶ \u001b[33mbusinesses\u001b[0m \u001b[31mNOUN\u001b[0m \u001b[34mobl\u001b[0m\n",
      "   ╰─╼ \u001b[33m.\u001b[0m \u001b[31mPUNCT\u001b[0m \u001b[34mpunct\u001b[0m\n",
      "\n",
      "None 3711\n"
     ]
    }
   ],
   "source": [
    "CHILD_deprel, PARENT_deprel = 'compound', 'compound'\n",
    "\n",
    "i = 0\n",
    "root = None\n",
    "for node in doc.nodes:\n",
    "    if node.root.sent_id != root:\n",
    "        root = node.root.sent_id\n",
    "        i += 1\n",
    "    if node.is_nonprojective():\n",
    "        if node.parent.deprel == PARENT_deprel and node.deprel == CHILD_deprel:   \n",
    "            print(doc[i-1].draw(), i-1)  "
   ]
  }
 ],
 "metadata": {
  "hide_input": false,
  "kernelspec": {
   "display_name": "Python 3",
   "language": "python",
   "name": "python3"
  },
  "language_info": {
   "codemirror_mode": {
    "name": "ipython",
    "version": 3
   },
   "file_extension": ".py",
   "mimetype": "text/x-python",
   "name": "python",
   "nbconvert_exporter": "python",
   "pygments_lexer": "ipython3",
   "version": "3.8.5"
  }
 },
 "nbformat": 4,
 "nbformat_minor": 4
}
